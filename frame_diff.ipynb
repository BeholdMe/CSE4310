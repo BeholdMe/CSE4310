{
 "cells": [
  {
   "cell_type": "code",
   "execution_count": null,
   "id": "eea36d47-837c-49fc-a6a3-6040dc88d118",
   "metadata": {},
   "outputs": [],
   "source": [
    "import numpy as np\n",
    "import matplotlib.pyplot as plt\n",
    "import skvideo.io\n",
    "from skimage.color import rgb2gray\n",
    "from skimage.measure import label, regionprops\n",
    "from skimage.morphology import dilation\n",
    "import numpy\n",
    "\n",
    "# skvideo fix\n",
    "numpy.float = numpy.float64\n",
    "numpy.int = numpy.int_"
   ]
  },
  {
   "cell_type": "code",
   "execution_count": 12,
   "id": "415f1f03-0040-4d4b-8c7d-50d58704ee09",
   "metadata": {},
   "outputs": [],
   "source": [
    "def draw_bbox(ax, bbox):\n",
    "    minr, minc, maxr, maxc = bbox\n",
    "    bx = (minc, maxc, maxc, minc, minc)\n",
    "    by = (minr, minr, maxr, maxr, minr)\n",
    "    ax.plot(bx, by, '-g', linewidth=2.5)"
   ]
  },
  {
   "cell_type": "code",
   "execution_count": 8,
   "id": "bbe55a2b-cc64-4df8-94fa-ed529c843f6d",
   "metadata": {},
   "outputs": [],
   "source": [
    "frames = skvideo.io.vread(\"/home/alex/Downloads/east_parking_reduced_size.mp4\")"
   ]
  },
  {
   "cell_type": "code",
   "execution_count": 17,
   "id": "ea7ace1f-3d5b-4725-af9f-382788767cce",
   "metadata": {},
   "outputs": [
    {
     "name": "stdout",
     "output_type": "stream",
     "text": [
      "7\n"
     ]
    },
    {
     "data": {
      "image/png": "[encoded data removed]",
      "text/plain": [
       "<Figure size 640x480 with 1 Axes>"
      ]
     },
     "metadata": {},
     "output_type": "display_data"
    }
   ],
   "source": [
    "idx = 400\n",
    "threshold = 0.05\n",
    "\n",
    "ppframe = rgb2gray(frames[idx-2])\n",
    "pframe = rgb2gray(frames[idx-1])\n",
    "cframe = rgb2gray(frames[idx])\n",
    "diff1 = np.abs(cframe - pframe)\n",
    "diff2 = np.abs(pframe - ppframe)\n",
    "\n",
    "motion_frame = np.minimum(diff1, diff2)\n",
    "thresh_frame = motion_frame > threshold\n",
    "dilated_frame = dilation(thresh_frame, np.ones((9, 9)))\n",
    "label_frame = label(dilated_frame)\n",
    "regions = regionprops(label_frame)\n",
    "\n",
    "print(len(regions))\n",
    "\n",
    "fig = plt.figure()\n",
    "ax = fig.add_subplot(111)\n",
    "ax.imshow(dilated_frame, cmap='gray')\n",
    "ax.set_axis_off()\n",
    "ax.margins(0, 0)\n",
    "plt.gca().xaxis.set_major_locator(plt.NullLocator())\n",
    "plt.gca().yaxis.set_major_locator(plt.NullLocator())\n",
    "\n",
    "for r in regions:\n",
    "    draw_bbox(ax, r.bbox)\n",
    "    \n",
    "# plt.savefig(\"/home/alex/Downloads/filename.pdf\", bbox_inches = 'tight',\n",
    "#     pad_inches = 0)"
   ]
  }
 ],
 "metadata": {
  "kernelspec": {
   "display_name": "cse4310tracking",
   "language": "python",
   "name": "python3"
  },
  "language_info": {
   "codemirror_mode": {
    "name": "ipython",
    "version": 3
   },
   "file_extension": ".py",
   "mimetype": "text/x-python",
   "name": "python",
   "nbconvert_exporter": "python",
   "pygments_lexer": "ipython3",
   "version": "3.12.9"
  }
 },
 "nbformat": 4,
 "nbformat_minor": 5
}
