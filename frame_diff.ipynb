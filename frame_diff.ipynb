{
 "cells": [
  {
   "cell_type": "code",
   "execution_count": 28,
   "id": "eea36d47-837c-49fc-a6a3-6040dc88d118",
   "metadata": {},
   "outputs": [],
   "source": [
    "import numpy as np\n",
    "import matplotlib.pyplot as plt\n",
    "import skvideo.io\n",
    "from skimage.color import rgb2gray\n",
    "from skimage.measure import label, regionprops\n",
    "from skimage.morphology import dilation\n",
    "\n",
    "%matplotlib widget"
   ]
  },
  {
   "cell_type": "code",
   "execution_count": 29,
   "id": "415f1f03-0040-4d4b-8c7d-50d58704ee09",
   "metadata": {},
   "outputs": [],
   "source": [
    "def draw_bbox(ax, bbox):\n",
    "    minr, minc, maxr, maxc = bbox\n",
    "    bx = (minc, maxc, maxc, minc, minc)\n",
    "    by = (minr, minr, maxr, maxr, minr)\n",
    "    ax.plot(bx, by, '-b', linewidth=2.5)"
   ]
  },
  {
   "cell_type": "code",
   "execution_count": 2,
   "id": "bbe55a2b-cc64-4df8-94fa-ed529c843f6d",
   "metadata": {},
   "outputs": [],
   "source": [
    "frames = skvideo.io.vread(\"east_parking_reduced_size.mp4\")"
   ]
  },
  {
   "cell_type": "code",
   "execution_count": 31,
   "id": "ea7ace1f-3d5b-4725-af9f-382788767cce",
   "metadata": {},
   "outputs": [
    {
     "name": "stdout",
     "output_type": "stream",
     "text": [
      "[<skimage.measure._regionprops.RegionProperties object at 0x7fa7c736d6c0>, <skimage.measure._regionprops.RegionProperties object at 0x7fa7c7500a00>, <skimage.measure._regionprops.RegionProperties object at 0x7fa7c75022c0>, <skimage.measure._regionprops.RegionProperties object at 0x7fa7c7503a90>, <skimage.measure._regionprops.RegionProperties object at 0x7fa7c73e4d90>, <skimage.measure._regionprops.RegionProperties object at 0x7fa7c73e4d60>, <skimage.measure._regionprops.RegionProperties object at 0x7fa7c73e69e0>, <skimage.measure._regionprops.RegionProperties object at 0x7fa7c7272500>, <skimage.measure._regionprops.RegionProperties object at 0x7fa7c7273a30>, <skimage.measure._regionprops.RegionProperties object at 0x7fa7c83a1660>, <skimage.measure._regionprops.RegionProperties object at 0x7fa7c734a4d0>, <skimage.measure._regionprops.RegionProperties object at 0x7fa7c734abc0>, <skimage.measure._regionprops.RegionProperties object at 0x7fa7c734a470>, <skimage.measure._regionprops.RegionProperties object at 0x7fa7c734a7d0>, <skimage.measure._regionprops.RegionProperties object at 0x7fa7c7349a50>]\n"
     ]
    },
    {
     "data": {
      "application/vnd.jupyter.widget-view+json": {
       "model_id": "cf28dd6b42a54350a3c78ec124e09d4e",
       "version_major": 2,
       "version_minor": 0
      },
      "text/plain": [
       "Canvas(toolbar=Toolbar(toolitems=[('Home', 'Reset original view', 'home', 'home'), ('Back', 'Back to previous …"
      ]
     },
     "metadata": {},
     "output_type": "display_data"
    }
   ],
   "source": [
    "idx = 100\n",
    "threshold = 0.1\n",
    "\n",
    "ppframe = rgb2gray(frames[idx-2])\n",
    "pframe = rgb2gray(frames[idx-1])\n",
    "cframe = rgb2gray(frames[idx])\n",
    "diff1 = np.abs(cframe - pframe)\n",
    "diff2 = np.abs(pframe - ppframe)\n",
    "\n",
    "motion_frame = np.minimum(diff1, diff2)\n",
    "thresh_frame = motion_frame > threshold\n",
    "dilated_frame = dilation(thresh_frame)\n",
    "label_frame = label(dilated_frame)\n",
    "regions = regionprops(label_frame)\n",
    "\n",
    "print(regions)\n",
    "\n",
    "fig = plt.figure()\n",
    "ax = fig.add_subplot(111)\n",
    "ax.imshow(dilated_frame, cmap='gray')\n",
    "\n",
    "for r in regions:\n",
    "    draw_bbox(ax, r.bbox)"
   ]
  },
  {
   "cell_type": "code",
   "execution_count": null,
   "id": "f00b2258-7f0b-40df-9b41-f0a40d2abd01",
   "metadata": {},
   "outputs": [],
   "source": []
  }
 ],
 "metadata": {
  "kernelspec": {
   "display_name": "Python [conda env:cse4310] *",
   "language": "python",
   "name": "conda-env-cse4310-py"
  },
  "language_info": {
   "codemirror_mode": {
    "name": "ipython",
    "version": 3
   },
   "file_extension": ".py",
   "mimetype": "text/x-python",
   "name": "python",
   "nbconvert_exporter": "python",
   "pygments_lexer": "ipython3",
   "version": "3.10.0"
  }
 },
 "nbformat": 4,
 "nbformat_minor": 5
}
