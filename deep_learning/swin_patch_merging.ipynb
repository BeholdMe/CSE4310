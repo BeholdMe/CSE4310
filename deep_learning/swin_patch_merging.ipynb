{
 "cells": [
  {
   "cell_type": "markdown",
   "id": "db7623ab",
   "metadata": {},
   "source": [
    "# A demonstration of the patch merging logic from the Swin Transformer architecture"
   ]
  },
  {
   "cell_type": "code",
   "execution_count": 2,
   "id": "8aa5b2b3",
   "metadata": {},
   "outputs": [
    {
     "name": "stdout",
     "output_type": "stream",
     "text": [
      "Output shape: torch.Size([1, 2, 2, 16])\n"
     ]
    }
   ],
   "source": [
    "import torch\n",
    "import torch.nn as nn\n",
    "\n",
    "class PatchMerging(nn.Module):\n",
    "    def __init__(self, dim):\n",
    "        super().__init__()\n",
    "        self.reduction = nn.Linear(4 * dim, 2 * dim)\n",
    "        self.norm = nn.LayerNorm(4 * dim)\n",
    "\n",
    "    def forward(self, x):\n",
    "        \"\"\" x shape: (B, H, W, C) \"\"\"\n",
    "        # Step 1: Group 2x2 patches\n",
    "        x0 = x[:, 0::2, 0::2, :]  # (B, H/2, W/2, C)\n",
    "        x1 = x[:, 1::2, 0::2, :]\n",
    "        x2 = x[:, 0::2, 1::2, :]\n",
    "        x3 = x[:, 1::2, 1::2, :]\n",
    "        \n",
    "        # Step 2: Channel concatenation (B, H/2, W/2, 4C)\n",
    "        x = torch.cat([x0, x1, x2, x3], -1)\n",
    "        \n",
    "        # Step 3: Linear projection (B, H/2, W/2, 2C)\n",
    "        x = self.norm(x)\n",
    "        x = self.reduction(x)\n",
    "        return x\n",
    "\n",
    "\n",
    "# Create a random tensor with shape (B, H, W, C)\n",
    "B, H, W, C = 1, 4, 4, 8\n",
    "x = torch.randn(B, H, W, C)\n",
    "\n",
    "# Initialize the PatchMerging layer\n",
    "patch_merging = PatchMerging(dim=C)\n",
    "\n",
    "# Forward pass\n",
    "output = patch_merging(x)\n",
    "print(\"Output shape:\", output.shape)  # Expected shape: (B, H/2, W/2, 2C)"
   ]
  }
 ],
 "metadata": {
  "kernelspec": {
   "display_name": "cse6363",
   "language": "python",
   "name": "python3"
  },
  "language_info": {
   "codemirror_mode": {
    "name": "ipython",
    "version": 3
   },
   "file_extension": ".py",
   "mimetype": "text/x-python",
   "name": "python",
   "nbconvert_exporter": "python",
   "pygments_lexer": "ipython3",
   "version": "3.12.3"
  }
 },
 "nbformat": 4,
 "nbformat_minor": 5
}
