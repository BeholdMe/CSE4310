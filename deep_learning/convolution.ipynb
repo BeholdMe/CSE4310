{
 "cells": [
  {
   "cell_type": "code",
   "execution_count": 2,
   "metadata": {},
   "outputs": [],
   "source": [
    "import numpy as np\n",
    "import torch\n",
    "import scipy.signal"
   ]
  },
  {
   "cell_type": "code",
   "execution_count": 17,
   "metadata": {},
   "outputs": [
    {
     "name": "stdout",
     "output_type": "stream",
     "text": [
      "tensor([[19., 25.],\n",
      "        [37., 43.]])\n",
      "tensor([[ 5., 11.],\n",
      "        [23., 29.]])\n",
      "[[ 5 11]\n",
      " [23 29]]\n",
      "tensor([[[[19, 25],\n",
      "          [37, 43]]]])\n"
     ]
    }
   ],
   "source": [
    "def conv2d(X, K, padding=(0, 0), stride=(1, 1)):\n",
    "    h, w = K.shape\n",
    "    X = torch.nn.functional.pad(X, (padding[0], padding[1], padding[0], padding[1]), 'constant', 0)\n",
    "    Y = torch.zeros((X.shape[0] - h + 1, X.shape[1] - w + 1))\n",
    "    for i in range(Y.shape[0]):\n",
    "        for j in range(Y.shape[1]):\n",
    "            Y[i, j] = (X[i:i + h, j:j + w] * K).sum()\n",
    "    return Y\n",
    "\n",
    "def conv2d_raschka(X, W, p=(0, 0), s=(1, 1)):\n",
    "    W_rot = torch.rot90(W, 2, (0, 1))\n",
    "    X_orig = X.clone()\n",
    "    n1 = X_orig.shape[0] + 2 * p[0]\n",
    "    n2 = X_orig.shape[1] + 2 * p[1]\n",
    "    X_padded = torch.zeros((n1, n2))\n",
    "    X_padded[p[0]:p[0] + X_orig.shape[0], p[1]:p[1] + X_orig.shape[1]] = X_orig\n",
    "\n",
    "    res = []\n",
    "    for i in range(0,\n",
    "            int((X_padded.shape[0] - W_rot.shape[0]) / s[0]) + 1,\n",
    "            s[0]):\n",
    "        res.append([])\n",
    "        for j in range(0,\n",
    "                int((X_padded.shape[1] - W_rot.shape[1]) / s[1]) + 1,\n",
    "                s[1]):\n",
    "            X_sub = X_padded[i:i + W_rot.shape[0], j:j + W_rot.shape[1]]\n",
    "            res[-1].append(torch.sum(X_sub * W_rot))   \n",
    "    return torch.tensor(res)\n",
    "\n",
    "\n",
    "X = torch.tensor([[0, 1, 2], [3, 4, 5], [6, 7, 8]])\n",
    "K = torch.tensor([[0, 1], [2, 3]])\n",
    "\n",
    "print(conv2d(X, K))\n",
    "print(conv2d_raschka(X, K))\n",
    "print(scipy.signal.convolve2d(X, K, mode='valid'))\n",
    "print(torch.conv2d(X.unsqueeze(0).unsqueeze(0), K.unsqueeze(0).unsqueeze(0)))"
   ]
  },
  {
   "cell_type": "code",
   "execution_count": 19,
   "metadata": {},
   "outputs": [
    {
     "name": "stdout",
     "output_type": "stream",
     "text": [
      "tensor([[0., 1., 1.],\n",
      "        [2., 6., 4.],\n",
      "        [2., 5., 3.]])\n",
      "tensor([[0., 1., 1.],\n",
      "        [2., 6., 4.],\n",
      "        [2., 5., 3.]])\n"
     ]
    }
   ],
   "source": [
    "# Testing autodiff\n",
    "\n",
    "X = torch.tensor([[0, 1, 2], [3, 4, 5], [6, 7, 8]], dtype=torch.float32, requires_grad=True)\n",
    "K = torch.tensor([[0, 1], [2, 3]], dtype=torch.float32, requires_grad=True)\n",
    "\n",
    "Y = conv2d(X, K)\n",
    "Y.sum().backward()\n",
    "print(X.grad)\n",
    "\n",
    "# Testing autodiff with PyTorch\n",
    "\n",
    "X = torch.tensor([[0, 1, 2], [3, 4, 5], [6, 7, 8]], dtype=torch.float32, requires_grad=True)\n",
    "K = torch.tensor([[0, 1], [2, 3]], dtype=torch.float32, requires_grad=True)\n",
    "\n",
    "Y = torch.conv2d(X.unsqueeze(0).unsqueeze(0), K.unsqueeze(0).unsqueeze(0))\n",
    "Y.sum().backward()\n",
    "print(X.grad)"
   ]
  }
 ],
 "metadata": {
  "kernelspec": {
   "display_name": "cse4310",
   "language": "python",
   "name": "python3"
  },
  "language_info": {
   "codemirror_mode": {
    "name": "ipython",
    "version": 3
   },
   "file_extension": ".py",
   "mimetype": "text/x-python",
   "name": "python",
   "nbconvert_exporter": "python",
   "pygments_lexer": "ipython3",
   "version": "3.10.2"
  },
  "orig_nbformat": 4
 },
 "nbformat": 4,
 "nbformat_minor": 2
}
