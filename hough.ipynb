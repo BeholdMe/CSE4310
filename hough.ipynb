{
 "cells": [
  {
   "cell_type": "markdown",
   "id": "68639c42-ad93-405b-867e-6df1349b91c3",
   "metadata": {},
   "source": [
    "# Hough Transform\n",
    "\n",
    "This notebook demonstrates the hough transform using the implementation provided by `scikit-image`."
   ]
  },
  {
   "cell_type": "code",
   "execution_count": null,
   "id": "5383d768-e8f8-4a07-bbe0-2692978e927d",
   "metadata": {},
   "outputs": [],
   "source": [
    "import numpy as np\n",
    "\n",
    "from PIL import Image\n",
    "from skimage.transform import hough_line, hough_line_peaks, resize\n",
    "from skimage.feature import canny\n",
    "from skimage.draw import line\n",
    "from skimage import data\n",
    "from skimage.color import rgb2gray, rgba2rgb\n",
    "\n",
    "import matplotlib.pyplot as plt\n",
    "from matplotlib import cm"
   ]
  },
  {
   "cell_type": "code",
   "execution_count": null,
   "id": "6ab2fb64-8240-40ff-bc43-5d3b2f591802",
   "metadata": {},
   "outputs": [],
   "source": [
    "# Load the image and perform canny edge detection\n",
    "img = Image.open('img/cr.png')\n",
    "img = img.convert('L')\n",
    "\n",
    "img_np = np.asarray(img)\n",
    "\n",
    "# Resize image if it is too big\n",
    "h, w = img_np.shape\n",
    "ratio = w / h\n",
    "new_h = 400\n",
    "new_w = int(new_h * ratio)\n",
    "\n",
    "img_resized = resize(img_np, (new_h, new_w))\n",
    "img_arr = img_resized\n",
    "\n",
    "fig = plt.figure()\n",
    "ax = fig.add_subplot(111)\n",
    "ax.imshow(img_arr, cmap='gray')\n",
    "ax.set_axis_off()"
   ]
  },
  {
   "cell_type": "code",
   "execution_count": null,
   "id": "71c988ac-641b-451e-ab9c-3ca40a32e13e",
   "metadata": {},
   "outputs": [],
   "source": [
    "canny_img = canny(img_arr, sigma=1.4)\n",
    "\n",
    "fig = plt.figure()\n",
    "ax = fig.add_subplot(111)\n",
    "ax.imshow(canny_img, cmap='gray')\n",
    "ax.set_axis_off()"
   ]
  },
  {
   "cell_type": "code",
   "execution_count": null,
   "id": "4f94216d-4247-45b9-befa-5bc5f4a9a10b",
   "metadata": {},
   "outputs": [],
   "source": [
    "angles = np.linspace(-np.pi / 2, np.pi / 2, 360, endpoint=False)\n",
    "h, theta, d = hough_line(canny_img, theta=angles)"
   ]
  },
  {
   "cell_type": "code",
   "execution_count": null,
   "id": "32305dda-d5cd-4d8f-8cae-cc786b2dc550",
   "metadata": {},
   "outputs": [],
   "source": [
    "fig = plt.figure(figsize=(16, 9))\n",
    "ax = fig.add_subplot(111)\n",
    "ax.imshow(h, cmap='gray')\n",
    "ax.set_xlabel(\"Angles (degrees)\")\n",
    "ax.set_ylabel(\"Distance (pixels)\")"
   ]
  },
  {
   "cell_type": "code",
   "execution_count": null,
   "id": "400a952d-bb75-4236-9a66-cdf04ea7b4af",
   "metadata": {},
   "outputs": [],
   "source": [
    "fig = plt.figure(figsize=(4, 6))\n",
    "ax = fig.add_subplot(111)\n",
    "ax.imshow(canny_img, cmap='gray')\n",
    "ax.set_axis_off()\n",
    "\n",
    "for _, angle, dist in zip(*hough_line_peaks(h, theta, d, threshold=150)):\n",
    "    (x0, y0) = dist * np.array([np.cos(angle), np.sin(angle)])\n",
    "    ax.axline((x0, y0), slope=np.tan(angle + np.pi/2))"
   ]
  }
 ],
 "metadata": {
  "kernelspec": {
   "display_name": "cse4310",
   "language": "python",
   "name": "python3"
  },
  "language_info": {
   "codemirror_mode": {
    "name": "ipython",
    "version": 3
   },
   "file_extension": ".py",
   "mimetype": "text/x-python",
   "name": "python",
   "nbconvert_exporter": "python",
   "pygments_lexer": "ipython3",
   "version": "3.10.9"
  }
 },
 "nbformat": 4,
 "nbformat_minor": 5
}
